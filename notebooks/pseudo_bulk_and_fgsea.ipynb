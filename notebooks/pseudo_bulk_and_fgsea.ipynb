{
 "cells": [
  {
   "cell_type": "code",
   "execution_count": null,
   "id": "73510eeb",
   "metadata": {},
   "outputs": [],
   "source": [
    "import pegasus as pg"
   ]
  },
  {
   "cell_type": "markdown",
   "id": "2b4b6ddd",
   "metadata": {},
   "source": [
    "### Load data"
   ]
  },
  {
   "cell_type": "code",
   "execution_count": null,
   "id": "fbe49dcb",
   "metadata": {},
   "outputs": [],
   "source": [
    "data = pg.read_input('MantonBM_result.zarr.zip')"
   ]
  },
  {
   "cell_type": "markdown",
   "id": "1ef8e9c0",
   "metadata": {},
   "source": [
    "### Generate pseudo bulk matrix"
   ]
  },
  {
   "cell_type": "code",
   "execution_count": null,
   "id": "ba9210f2",
   "metadata": {},
   "outputs": [],
   "source": [
    "pseudo = pg.pseudobulk(data, 'Channel', 'gender')\n",
    "pseudo"
   ]
  },
  {
   "cell_type": "markdown",
   "id": "93a287ad",
   "metadata": {},
   "source": [
    "### DESeq2"
   ]
  },
  {
   "cell_type": "code",
   "execution_count": null,
   "id": "86cdfc84",
   "metadata": {},
   "outputs": [],
   "source": [
    "pg.deseq2(pseudo, '~gender', ('gender', 'female', 'male'))"
   ]
  },
  {
   "cell_type": "markdown",
   "id": "01e10459",
   "metadata": {},
   "source": [
    "### Get significant DE genes in human-readable format"
   ]
  },
  {
   "cell_type": "code",
   "execution_count": null,
   "id": "a074fb23",
   "metadata": {},
   "outputs": [],
   "source": [
    "markers = pg.pseudo.markers(pseudo)\n",
    "print(markers)"
   ]
  },
  {
   "cell_type": "markdown",
   "id": "bb6b7c6d",
   "metadata": {},
   "source": [
    "### Write DE results to spreadsheet"
   ]
  },
  {
   "cell_type": "code",
   "execution_count": null,
   "id": "c10148b7",
   "metadata": {},
   "outputs": [],
   "source": [
    "pg.pseudo.write_results_to_excel(markers, 'test.de.xlsx')"
   ]
  },
  {
   "cell_type": "markdown",
   "id": "fd875cde",
   "metadata": {},
   "source": [
    "### Generate volcano plot"
   ]
  },
  {
   "cell_type": "code",
   "execution_count": null,
   "id": "7641ac37",
   "metadata": {},
   "outputs": [],
   "source": [
    "pg.pseudo.volcano(pseudo)"
   ]
  },
  {
   "cell_type": "markdown",
   "id": "23e6be94",
   "metadata": {},
   "source": [
    "### GSEA analysis using fGSEA, note this function is applicable to both DE results from single-cells and pseudo-bulks"
   ]
  },
  {
   "cell_type": "code",
   "execution_count": null,
   "id": "e62d4e47",
   "metadata": {},
   "outputs": [],
   "source": [
    "pg.fgsea(pseudo, 'log2FoldChange', 'canonical_pathways', 'deseq2', fgsea_key = 'fgsea_deseq2')"
   ]
  },
  {
   "cell_type": "markdown",
   "id": "29168c1b",
   "metadata": {},
   "source": [
    "### Generate GSEA plots, top panel up-regulated (red) and bottom panel down-regulated (green)"
   ]
  },
  {
   "cell_type": "code",
   "execution_count": null,
   "id": "90b62fa5",
   "metadata": {},
   "outputs": [],
   "source": [
    "pg.plot_gsea(pseudo, 'fgsea_deseq2')"
   ]
  }
 ],
 "metadata": {
  "kernelspec": {
   "display_name": "Python 3 (ipykernel)",
   "language": "python",
   "name": "python3"
  },
  "language_info": {
   "codemirror_mode": {
    "name": "ipython",
    "version": 3
   },
   "file_extension": ".py",
   "mimetype": "text/x-python",
   "name": "python",
   "nbconvert_exporter": "python",
   "pygments_lexer": "ipython3",
   "version": "3.7.11"
  }
 },
 "nbformat": 4,
 "nbformat_minor": 5
}
